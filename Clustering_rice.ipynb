{
 "cells": [
  {
   "cell_type": "code",
   "execution_count": 3,
   "metadata": {},
   "outputs": [],
   "source": [
    "import pandas as pd\n",
    "import numpy as np\n",
    "pd.set_option('display.max_columns', 100)\n",
    "pd.set_option('display.float_format', lambda x: '%.5f' % x)\n",
    "pd.options.mode.chained_assignment = None\n",
    "from kmodes.kmodes import KModes\n",
    "from sklearn import preprocessing\n",
    "import itertools"
   ]
  },
  {
   "cell_type": "code",
   "execution_count": 4,
   "metadata": {},
   "outputs": [],
   "source": [
    "df = pd.read_csv(\"Rice_quantitative.csv\", encoding= 'unicode_escape')"
   ]
  },
  {
   "cell_type": "code",
   "execution_count": 5,
   "metadata": {},
   "outputs": [
    {
     "data": {
      "text/html": [
       "<div>\n",
       "<style scoped>\n",
       "    .dataframe tbody tr th:only-of-type {\n",
       "        vertical-align: middle;\n",
       "    }\n",
       "\n",
       "    .dataframe tbody tr th {\n",
       "        vertical-align: top;\n",
       "    }\n",
       "\n",
       "    .dataframe thead th {\n",
       "        text-align: right;\n",
       "    }\n",
       "</style>\n",
       "<table border=\"1\" class=\"dataframe\">\n",
       "  <thead>\n",
       "    <tr style=\"text-align: right;\">\n",
       "      <th></th>\n",
       "      <th>Areas</th>\n",
       "      <th>Company</th>\n",
       "      <th>Crop</th>\n",
       "      <th>Age</th>\n",
       "      <th>Education</th>\n",
       "      <th>Orientation</th>\n",
       "      <th>ID</th>\n",
       "      <th>Use_NY</th>\n",
       "      <th>Product</th>\n",
       "      <th>Used_LY</th>\n",
       "      <th>Product_LY</th>\n",
       "      <th>Company.1</th>\n",
       "      <th>Indication</th>\n",
       "      <th>Region</th>\n",
       "      <th>District</th>\n",
       "      <th>Year</th>\n",
       "      <th>Harvest</th>\n",
       "      <th>Volume_tons</th>\n",
       "      <th>Value_Thsd</th>\n",
       "    </tr>\n",
       "  </thead>\n",
       "  <tbody>\n",
       "    <tr>\n",
       "      <td>0</td>\n",
       "      <td>0,0 - 0,5 ha</td>\n",
       "      <td>Bayer CS</td>\n",
       "      <td>Rice</td>\n",
       "      <td>51 - 60 years</td>\n",
       "      <td>High school</td>\n",
       "      <td>mixed farm</td>\n",
       "      <td>Farmer 580021203</td>\n",
       "      <td>yes</td>\n",
       "      <td>BAYLUSCIDE 70 WP</td>\n",
       "      <td>yes</td>\n",
       "      <td>BAYLUSCIDE 70 WP</td>\n",
       "      <td>unknown</td>\n",
       "      <td>Molluscicides</td>\n",
       "      <td>Luzon</td>\n",
       "      <td>Cagayan</td>\n",
       "      <td>2017</td>\n",
       "      <td>Rice, 1st harvest</td>\n",
       "      <td>0.14902</td>\n",
       "      <td>5.04642</td>\n",
       "    </tr>\n",
       "    <tr>\n",
       "      <td>1</td>\n",
       "      <td>0,0 - 0,5 ha</td>\n",
       "      <td>Syngenta</td>\n",
       "      <td>Rice</td>\n",
       "      <td>51 - 60 years</td>\n",
       "      <td>High school</td>\n",
       "      <td>mixed farm</td>\n",
       "      <td>Farmer 580021203</td>\n",
       "      <td>yes</td>\n",
       "      <td>CYMBUSH 5 EC</td>\n",
       "      <td>yes</td>\n",
       "      <td>CYMBUSH 5 EC</td>\n",
       "      <td>Syngenta</td>\n",
       "      <td>Insecticides</td>\n",
       "      <td>Luzon</td>\n",
       "      <td>Cagayan</td>\n",
       "      <td>2017</td>\n",
       "      <td>Rice, 1st harvest</td>\n",
       "      <td>2.38431</td>\n",
       "      <td>15.91421</td>\n",
       "    </tr>\n",
       "    <tr>\n",
       "      <td>2</td>\n",
       "      <td>0,0 - 0,5 ha</td>\n",
       "      <td>Monsanto</td>\n",
       "      <td>Rice</td>\n",
       "      <td>41 - 50 years</td>\n",
       "      <td>Secondary school</td>\n",
       "      <td>undefined</td>\n",
       "      <td>Farmer 580001107</td>\n",
       "      <td>yes</td>\n",
       "      <td>DIREK 800</td>\n",
       "      <td>yes</td>\n",
       "      <td>DIREK 800</td>\n",
       "      <td>Monsanto</td>\n",
       "      <td>Herbicides</td>\n",
       "      <td>Luzon</td>\n",
       "      <td>Isabela</td>\n",
       "      <td>2016</td>\n",
       "      <td>Rice, 1st harvest</td>\n",
       "      <td>0.73302</td>\n",
       "      <td>9.92922</td>\n",
       "    </tr>\n",
       "    <tr>\n",
       "      <td>3</td>\n",
       "      <td>0,0 - 0,5 ha</td>\n",
       "      <td>Monsanto</td>\n",
       "      <td>Rice</td>\n",
       "      <td>41 - 50 years</td>\n",
       "      <td>Secondary school</td>\n",
       "      <td>undefined</td>\n",
       "      <td>Farmer 580001107</td>\n",
       "      <td>yes</td>\n",
       "      <td>DIREK 800</td>\n",
       "      <td>yes</td>\n",
       "      <td>DIREK 800</td>\n",
       "      <td>Monsanto</td>\n",
       "      <td>Herbicides</td>\n",
       "      <td>Luzon</td>\n",
       "      <td>Isabela</td>\n",
       "      <td>2016</td>\n",
       "      <td>Rice, 2nd harvest</td>\n",
       "      <td>0.62918</td>\n",
       "      <td>8.52260</td>\n",
       "    </tr>\n",
       "    <tr>\n",
       "      <td>4</td>\n",
       "      <td>0,0 - 0,5 ha</td>\n",
       "      <td>Cropking Chem., Inc.</td>\n",
       "      <td>Rice</td>\n",
       "      <td>41 - 50 years</td>\n",
       "      <td>Secondary school</td>\n",
       "      <td>undefined</td>\n",
       "      <td>Farmer 580001107</td>\n",
       "      <td>yes</td>\n",
       "      <td>Hit 700 WP</td>\n",
       "      <td>yes</td>\n",
       "      <td>Hit 700 WP</td>\n",
       "      <td>unknown</td>\n",
       "      <td>Molluscicides</td>\n",
       "      <td>Luzon</td>\n",
       "      <td>Isabela</td>\n",
       "      <td>2016</td>\n",
       "      <td>Rice, 1st harvest</td>\n",
       "      <td>0.57013</td>\n",
       "      <td>22.06490</td>\n",
       "    </tr>\n",
       "  </tbody>\n",
       "</table>\n",
       "</div>"
      ],
      "text/plain": [
       "          Areas               Company  Crop            Age         Education  \\\n",
       "0  0,0 - 0,5 ha              Bayer CS  Rice  51 - 60 years       High school   \n",
       "1  0,0 - 0,5 ha              Syngenta  Rice  51 - 60 years       High school   \n",
       "2  0,0 - 0,5 ha              Monsanto  Rice  41 - 50 years  Secondary school   \n",
       "3  0,0 - 0,5 ha              Monsanto  Rice  41 - 50 years  Secondary school   \n",
       "4  0,0 - 0,5 ha  Cropking Chem., Inc.  Rice  41 - 50 years  Secondary school   \n",
       "\n",
       "  Orientation                ID Use_NY           Product Used_LY  \\\n",
       "0  mixed farm  Farmer 580021203    yes  BAYLUSCIDE 70 WP     yes   \n",
       "1  mixed farm  Farmer 580021203    yes      CYMBUSH 5 EC     yes   \n",
       "2   undefined  Farmer 580001107    yes         DIREK 800     yes   \n",
       "3   undefined  Farmer 580001107    yes         DIREK 800     yes   \n",
       "4   undefined  Farmer 580001107    yes        Hit 700 WP     yes   \n",
       "\n",
       "         Product_LY Company.1     Indication Region District  Year  \\\n",
       "0  BAYLUSCIDE 70 WP   unknown  Molluscicides  Luzon  Cagayan  2017   \n",
       "1      CYMBUSH 5 EC  Syngenta   Insecticides  Luzon  Cagayan  2017   \n",
       "2         DIREK 800  Monsanto     Herbicides  Luzon  Isabela  2016   \n",
       "3         DIREK 800  Monsanto     Herbicides  Luzon  Isabela  2016   \n",
       "4        Hit 700 WP   unknown  Molluscicides  Luzon  Isabela  2016   \n",
       "\n",
       "             Harvest  Volume_tons  Value_Thsd  \n",
       "0  Rice, 1st harvest      0.14902     5.04642  \n",
       "1  Rice, 1st harvest      2.38431    15.91421  \n",
       "2  Rice, 1st harvest      0.73302     9.92922  \n",
       "3  Rice, 2nd harvest      0.62918     8.52260  \n",
       "4  Rice, 1st harvest      0.57013    22.06490  "
      ]
     },
     "execution_count": 5,
     "metadata": {},
     "output_type": "execute_result"
    }
   ],
   "source": [
    "df.head()"
   ]
  },
  {
   "cell_type": "code",
   "execution_count": 6,
   "metadata": {},
   "outputs": [],
   "source": [
    "import matplotlib.pyplot as plt\n",
    "import seaborn as sns\n",
    "%matplotlib inline\n",
    "from matplotlib.pyplot import xticks"
   ]
  },
  {
   "cell_type": "code",
   "execution_count": 7,
   "metadata": {},
   "outputs": [],
   "source": [
    "df_cluster = df[['Areas','Age','Education','Orientation','Region','Value_Thsd','Use_NY','Indication']]"
   ]
  },
  {
   "cell_type": "code",
   "execution_count": 8,
   "metadata": {},
   "outputs": [
    {
     "data": {
      "text/html": [
       "<div>\n",
       "<style scoped>\n",
       "    .dataframe tbody tr th:only-of-type {\n",
       "        vertical-align: middle;\n",
       "    }\n",
       "\n",
       "    .dataframe tbody tr th {\n",
       "        vertical-align: top;\n",
       "    }\n",
       "\n",
       "    .dataframe thead th {\n",
       "        text-align: right;\n",
       "    }\n",
       "</style>\n",
       "<table border=\"1\" class=\"dataframe\">\n",
       "  <thead>\n",
       "    <tr style=\"text-align: right;\">\n",
       "      <th></th>\n",
       "      <th>Areas</th>\n",
       "      <th>Age</th>\n",
       "      <th>Education</th>\n",
       "      <th>Orientation</th>\n",
       "      <th>Region</th>\n",
       "      <th>Value_Thsd</th>\n",
       "      <th>Use_NY</th>\n",
       "      <th>Indication</th>\n",
       "    </tr>\n",
       "  </thead>\n",
       "  <tbody>\n",
       "    <tr>\n",
       "      <td>0</td>\n",
       "      <td>0,0 - 0,5 ha</td>\n",
       "      <td>51 - 60 years</td>\n",
       "      <td>High school</td>\n",
       "      <td>mixed farm</td>\n",
       "      <td>Luzon</td>\n",
       "      <td>5.04642</td>\n",
       "      <td>yes</td>\n",
       "      <td>Molluscicides</td>\n",
       "    </tr>\n",
       "    <tr>\n",
       "      <td>1</td>\n",
       "      <td>0,0 - 0,5 ha</td>\n",
       "      <td>51 - 60 years</td>\n",
       "      <td>High school</td>\n",
       "      <td>mixed farm</td>\n",
       "      <td>Luzon</td>\n",
       "      <td>15.91421</td>\n",
       "      <td>yes</td>\n",
       "      <td>Insecticides</td>\n",
       "    </tr>\n",
       "    <tr>\n",
       "      <td>2</td>\n",
       "      <td>0,0 - 0,5 ha</td>\n",
       "      <td>41 - 50 years</td>\n",
       "      <td>Secondary school</td>\n",
       "      <td>undefined</td>\n",
       "      <td>Luzon</td>\n",
       "      <td>9.92922</td>\n",
       "      <td>yes</td>\n",
       "      <td>Herbicides</td>\n",
       "    </tr>\n",
       "    <tr>\n",
       "      <td>3</td>\n",
       "      <td>0,0 - 0,5 ha</td>\n",
       "      <td>41 - 50 years</td>\n",
       "      <td>Secondary school</td>\n",
       "      <td>undefined</td>\n",
       "      <td>Luzon</td>\n",
       "      <td>8.52260</td>\n",
       "      <td>yes</td>\n",
       "      <td>Herbicides</td>\n",
       "    </tr>\n",
       "    <tr>\n",
       "      <td>4</td>\n",
       "      <td>0,0 - 0,5 ha</td>\n",
       "      <td>41 - 50 years</td>\n",
       "      <td>Secondary school</td>\n",
       "      <td>undefined</td>\n",
       "      <td>Luzon</td>\n",
       "      <td>22.06490</td>\n",
       "      <td>yes</td>\n",
       "      <td>Molluscicides</td>\n",
       "    </tr>\n",
       "  </tbody>\n",
       "</table>\n",
       "</div>"
      ],
      "text/plain": [
       "          Areas            Age         Education Orientation Region  \\\n",
       "0  0,0 - 0,5 ha  51 - 60 years       High school  mixed farm  Luzon   \n",
       "1  0,0 - 0,5 ha  51 - 60 years       High school  mixed farm  Luzon   \n",
       "2  0,0 - 0,5 ha  41 - 50 years  Secondary school   undefined  Luzon   \n",
       "3  0,0 - 0,5 ha  41 - 50 years  Secondary school   undefined  Luzon   \n",
       "4  0,0 - 0,5 ha  41 - 50 years  Secondary school   undefined  Luzon   \n",
       "\n",
       "   Value_Thsd Use_NY     Indication  \n",
       "0     5.04642    yes  Molluscicides  \n",
       "1    15.91421    yes   Insecticides  \n",
       "2     9.92922    yes     Herbicides  \n",
       "3     8.52260    yes     Herbicides  \n",
       "4    22.06490    yes  Molluscicides  "
      ]
     },
     "execution_count": 8,
     "metadata": {},
     "output_type": "execute_result"
    }
   ],
   "source": [
    "df_cluster.head()"
   ]
  },
  {
   "cell_type": "code",
   "execution_count": 9,
   "metadata": {},
   "outputs": [],
   "source": [
    "df_cluster['Turnover_bin'] = pd.cut(df_cluster['Value_Thsd'], [0,100,200,300,400,500,600,700,800,900],\n",
    "                                    labels=['0-100','100-200','200-300','300-400','400-500','500-600','600-700','700-800','800-900'] )\n",
    "df_cluster = df_cluster.drop('Value_Thsd',axis = 1)"
   ]
  },
  {
   "cell_type": "code",
   "execution_count": 10,
   "metadata": {},
   "outputs": [
    {
     "data": {
      "text/html": [
       "<div>\n",
       "<style scoped>\n",
       "    .dataframe tbody tr th:only-of-type {\n",
       "        vertical-align: middle;\n",
       "    }\n",
       "\n",
       "    .dataframe tbody tr th {\n",
       "        vertical-align: top;\n",
       "    }\n",
       "\n",
       "    .dataframe thead th {\n",
       "        text-align: right;\n",
       "    }\n",
       "</style>\n",
       "<table border=\"1\" class=\"dataframe\">\n",
       "  <thead>\n",
       "    <tr style=\"text-align: right;\">\n",
       "      <th></th>\n",
       "      <th>Areas</th>\n",
       "      <th>Age</th>\n",
       "      <th>Education</th>\n",
       "      <th>Orientation</th>\n",
       "      <th>Region</th>\n",
       "      <th>Use_NY</th>\n",
       "      <th>Indication</th>\n",
       "      <th>Turnover_bin</th>\n",
       "    </tr>\n",
       "  </thead>\n",
       "  <tbody>\n",
       "    <tr>\n",
       "      <td>0</td>\n",
       "      <td>0,0 - 0,5 ha</td>\n",
       "      <td>51 - 60 years</td>\n",
       "      <td>High school</td>\n",
       "      <td>mixed farm</td>\n",
       "      <td>Luzon</td>\n",
       "      <td>yes</td>\n",
       "      <td>Molluscicides</td>\n",
       "      <td>0-100</td>\n",
       "    </tr>\n",
       "    <tr>\n",
       "      <td>1</td>\n",
       "      <td>0,0 - 0,5 ha</td>\n",
       "      <td>51 - 60 years</td>\n",
       "      <td>High school</td>\n",
       "      <td>mixed farm</td>\n",
       "      <td>Luzon</td>\n",
       "      <td>yes</td>\n",
       "      <td>Insecticides</td>\n",
       "      <td>0-100</td>\n",
       "    </tr>\n",
       "    <tr>\n",
       "      <td>2</td>\n",
       "      <td>0,0 - 0,5 ha</td>\n",
       "      <td>41 - 50 years</td>\n",
       "      <td>Secondary school</td>\n",
       "      <td>undefined</td>\n",
       "      <td>Luzon</td>\n",
       "      <td>yes</td>\n",
       "      <td>Herbicides</td>\n",
       "      <td>0-100</td>\n",
       "    </tr>\n",
       "    <tr>\n",
       "      <td>3</td>\n",
       "      <td>0,0 - 0,5 ha</td>\n",
       "      <td>41 - 50 years</td>\n",
       "      <td>Secondary school</td>\n",
       "      <td>undefined</td>\n",
       "      <td>Luzon</td>\n",
       "      <td>yes</td>\n",
       "      <td>Herbicides</td>\n",
       "      <td>0-100</td>\n",
       "    </tr>\n",
       "    <tr>\n",
       "      <td>4</td>\n",
       "      <td>0,0 - 0,5 ha</td>\n",
       "      <td>41 - 50 years</td>\n",
       "      <td>Secondary school</td>\n",
       "      <td>undefined</td>\n",
       "      <td>Luzon</td>\n",
       "      <td>yes</td>\n",
       "      <td>Molluscicides</td>\n",
       "      <td>0-100</td>\n",
       "    </tr>\n",
       "  </tbody>\n",
       "</table>\n",
       "</div>"
      ],
      "text/plain": [
       "          Areas            Age         Education Orientation Region Use_NY  \\\n",
       "0  0,0 - 0,5 ha  51 - 60 years       High school  mixed farm  Luzon    yes   \n",
       "1  0,0 - 0,5 ha  51 - 60 years       High school  mixed farm  Luzon    yes   \n",
       "2  0,0 - 0,5 ha  41 - 50 years  Secondary school   undefined  Luzon    yes   \n",
       "3  0,0 - 0,5 ha  41 - 50 years  Secondary school   undefined  Luzon    yes   \n",
       "4  0,0 - 0,5 ha  41 - 50 years  Secondary school   undefined  Luzon    yes   \n",
       "\n",
       "      Indication Turnover_bin  \n",
       "0  Molluscicides        0-100  \n",
       "1   Insecticides        0-100  \n",
       "2     Herbicides        0-100  \n",
       "3     Herbicides        0-100  \n",
       "4  Molluscicides        0-100  "
      ]
     },
     "execution_count": 10,
     "metadata": {},
     "output_type": "execute_result"
    }
   ],
   "source": [
    "df_cluster.head()"
   ]
  },
  {
   "cell_type": "code",
   "execution_count": 11,
   "metadata": {},
   "outputs": [
    {
     "data": {
      "text/html": [
       "<div>\n",
       "<style scoped>\n",
       "    .dataframe tbody tr th:only-of-type {\n",
       "        vertical-align: middle;\n",
       "    }\n",
       "\n",
       "    .dataframe tbody tr th {\n",
       "        vertical-align: top;\n",
       "    }\n",
       "\n",
       "    .dataframe thead th {\n",
       "        text-align: right;\n",
       "    }\n",
       "</style>\n",
       "<table border=\"1\" class=\"dataframe\">\n",
       "  <thead>\n",
       "    <tr style=\"text-align: right;\">\n",
       "      <th></th>\n",
       "      <th>Areas</th>\n",
       "      <th>Age</th>\n",
       "      <th>Education</th>\n",
       "      <th>Orientation</th>\n",
       "      <th>Region</th>\n",
       "      <th>Use_NY</th>\n",
       "      <th>Indication</th>\n",
       "      <th>Turnover_bin</th>\n",
       "    </tr>\n",
       "  </thead>\n",
       "  <tbody>\n",
       "    <tr>\n",
       "      <td>count</td>\n",
       "      <td>23990</td>\n",
       "      <td>23990</td>\n",
       "      <td>23990</td>\n",
       "      <td>23990</td>\n",
       "      <td>23990</td>\n",
       "      <td>23990</td>\n",
       "      <td>23990</td>\n",
       "      <td>23990</td>\n",
       "    </tr>\n",
       "    <tr>\n",
       "      <td>unique</td>\n",
       "      <td>9</td>\n",
       "      <td>5</td>\n",
       "      <td>6</td>\n",
       "      <td>19</td>\n",
       "      <td>3</td>\n",
       "      <td>4</td>\n",
       "      <td>7</td>\n",
       "      <td>9</td>\n",
       "    </tr>\n",
       "    <tr>\n",
       "      <td>top</td>\n",
       "      <td>&gt; 1,0 - 2,0 ha</td>\n",
       "      <td>over 60 years</td>\n",
       "      <td>High school</td>\n",
       "      <td>undefined</td>\n",
       "      <td>Luzon</td>\n",
       "      <td>yes</td>\n",
       "      <td>Insecticides</td>\n",
       "      <td>0-100</td>\n",
       "    </tr>\n",
       "    <tr>\n",
       "      <td>freq</td>\n",
       "      <td>5425</td>\n",
       "      <td>7869</td>\n",
       "      <td>7255</td>\n",
       "      <td>8096</td>\n",
       "      <td>9776</td>\n",
       "      <td>21587</td>\n",
       "      <td>12046</td>\n",
       "      <td>23481</td>\n",
       "    </tr>\n",
       "  </tbody>\n",
       "</table>\n",
       "</div>"
      ],
      "text/plain": [
       "                 Areas            Age    Education Orientation Region Use_NY  \\\n",
       "count            23990          23990        23990       23990  23990  23990   \n",
       "unique               9              5            6          19      3      4   \n",
       "top     > 1,0 - 2,0 ha  over 60 years  High school   undefined  Luzon    yes   \n",
       "freq              5425           7869         7255        8096   9776  21587   \n",
       "\n",
       "          Indication Turnover_bin  \n",
       "count          23990        23990  \n",
       "unique             7            9  \n",
       "top     Insecticides        0-100  \n",
       "freq           12046        23481  "
      ]
     },
     "execution_count": 11,
     "metadata": {},
     "output_type": "execute_result"
    }
   ],
   "source": [
    "df_cluster.describe()"
   ]
  },
  {
   "cell_type": "code",
   "execution_count": 12,
   "metadata": {},
   "outputs": [
    {
     "name": "stdout",
     "output_type": "stream",
     "text": [
      "<class 'pandas.core.frame.DataFrame'>\n",
      "RangeIndex: 23990 entries, 0 to 23989\n",
      "Data columns (total 8 columns):\n",
      "Areas           23990 non-null object\n",
      "Age             23990 non-null object\n",
      "Education       23990 non-null object\n",
      "Orientation     23990 non-null object\n",
      "Region          23990 non-null object\n",
      "Use_NY          23990 non-null object\n",
      "Indication      23990 non-null object\n",
      "Turnover_bin    23990 non-null category\n",
      "dtypes: category(1), object(7)\n",
      "memory usage: 1.3+ MB\n"
     ]
    }
   ],
   "source": [
    "df_cluster.info()"
   ]
  },
  {
   "cell_type": "code",
   "execution_count": 13,
   "metadata": {},
   "outputs": [
    {
     "data": {
      "text/plain": [
       "Areas           0\n",
       "Age             0\n",
       "Education       0\n",
       "Orientation     0\n",
       "Region          0\n",
       "Use_NY          0\n",
       "Indication      0\n",
       "Turnover_bin    0\n",
       "dtype: int64"
      ]
     },
     "execution_count": 13,
     "metadata": {},
     "output_type": "execute_result"
    }
   ],
   "source": [
    "df_cluster.isnull().sum()"
   ]
  },
  {
   "cell_type": "code",
   "execution_count": 14,
   "metadata": {},
   "outputs": [],
   "source": [
    "df_cluster_copy = df_cluster.copy()"
   ]
  },
  {
   "cell_type": "code",
   "execution_count": 15,
   "metadata": {},
   "outputs": [
    {
     "data": {
      "text/html": [
       "<div>\n",
       "<style scoped>\n",
       "    .dataframe tbody tr th:only-of-type {\n",
       "        vertical-align: middle;\n",
       "    }\n",
       "\n",
       "    .dataframe tbody tr th {\n",
       "        vertical-align: top;\n",
       "    }\n",
       "\n",
       "    .dataframe thead th {\n",
       "        text-align: right;\n",
       "    }\n",
       "</style>\n",
       "<table border=\"1\" class=\"dataframe\">\n",
       "  <thead>\n",
       "    <tr style=\"text-align: right;\">\n",
       "      <th></th>\n",
       "      <th>Areas</th>\n",
       "      <th>Age</th>\n",
       "      <th>Education</th>\n",
       "      <th>Orientation</th>\n",
       "      <th>Region</th>\n",
       "      <th>Use_NY</th>\n",
       "      <th>Indication</th>\n",
       "      <th>Turnover_bin</th>\n",
       "    </tr>\n",
       "  </thead>\n",
       "  <tbody>\n",
       "    <tr>\n",
       "      <td>0</td>\n",
       "      <td>0</td>\n",
       "      <td>2</td>\n",
       "      <td>0</td>\n",
       "      <td>12</td>\n",
       "      <td>0</td>\n",
       "      <td>3</td>\n",
       "      <td>3</td>\n",
       "      <td>0</td>\n",
       "    </tr>\n",
       "    <tr>\n",
       "      <td>1</td>\n",
       "      <td>0</td>\n",
       "      <td>2</td>\n",
       "      <td>0</td>\n",
       "      <td>12</td>\n",
       "      <td>0</td>\n",
       "      <td>3</td>\n",
       "      <td>2</td>\n",
       "      <td>0</td>\n",
       "    </tr>\n",
       "    <tr>\n",
       "      <td>2</td>\n",
       "      <td>0</td>\n",
       "      <td>1</td>\n",
       "      <td>4</td>\n",
       "      <td>18</td>\n",
       "      <td>0</td>\n",
       "      <td>3</td>\n",
       "      <td>1</td>\n",
       "      <td>0</td>\n",
       "    </tr>\n",
       "    <tr>\n",
       "      <td>3</td>\n",
       "      <td>0</td>\n",
       "      <td>1</td>\n",
       "      <td>4</td>\n",
       "      <td>18</td>\n",
       "      <td>0</td>\n",
       "      <td>3</td>\n",
       "      <td>1</td>\n",
       "      <td>0</td>\n",
       "    </tr>\n",
       "    <tr>\n",
       "      <td>4</td>\n",
       "      <td>0</td>\n",
       "      <td>1</td>\n",
       "      <td>4</td>\n",
       "      <td>18</td>\n",
       "      <td>0</td>\n",
       "      <td>3</td>\n",
       "      <td>3</td>\n",
       "      <td>0</td>\n",
       "    </tr>\n",
       "  </tbody>\n",
       "</table>\n",
       "</div>"
      ],
      "text/plain": [
       "   Areas  Age  Education  Orientation  Region  Use_NY  Indication  \\\n",
       "0      0    2          0           12       0       3           3   \n",
       "1      0    2          0           12       0       3           2   \n",
       "2      0    1          4           18       0       3           1   \n",
       "3      0    1          4           18       0       3           1   \n",
       "4      0    1          4           18       0       3           3   \n",
       "\n",
       "   Turnover_bin  \n",
       "0             0  \n",
       "1             0  \n",
       "2             0  \n",
       "3             0  \n",
       "4             0  "
      ]
     },
     "execution_count": 15,
     "metadata": {},
     "output_type": "execute_result"
    }
   ],
   "source": [
    "from sklearn import preprocessing\n",
    "le = preprocessing.LabelEncoder()\n",
    "df_cluster = df_cluster.apply(le.fit_transform)\n",
    "df_cluster.head()"
   ]
  },
  {
   "cell_type": "code",
   "execution_count": 16,
   "metadata": {},
   "outputs": [
    {
     "name": "stdout",
     "output_type": "stream",
     "text": [
      "Init: initializing centroids\n",
      "Init: initializing clusters\n",
      "Starting iterations...\n",
      "Run 1, iteration: 1/100, moves: 0, cost: 96385.0\n",
      "Init: initializing centroids\n",
      "Init: initializing clusters\n",
      "Starting iterations...\n",
      "Run 1, iteration: 1/100, moves: 0, cost: 84722.0\n",
      "Init: initializing centroids\n",
      "Init: initializing clusters\n",
      "Starting iterations...\n",
      "Run 1, iteration: 1/100, moves: 0, cost: 80063.0\n",
      "Init: initializing centroids\n",
      "Init: initializing clusters\n",
      "Starting iterations...\n",
      "Run 1, iteration: 1/100, moves: 1531, cost: 75604.0\n",
      "Init: initializing centroids\n",
      "Init: initializing clusters\n",
      "Starting iterations...\n",
      "Run 1, iteration: 1/100, moves: 2329, cost: 72881.0\n",
      "Run 1, iteration: 2/100, moves: 461, cost: 72881.0\n"
     ]
    }
   ],
   "source": [
    "cost = []\n",
    "for num_clusters in list(range(1,6)):\n",
    "    kmode = KModes(n_clusters=num_clusters, init = 'Cao', verbose=1)\n",
    "    kmode.fit_predict(df_cluster)\n",
    "    cost.append(kmode.cost_)"
   ]
  },
  {
   "cell_type": "code",
   "execution_count": 17,
   "metadata": {},
   "outputs": [
    {
     "data": {
      "image/png": "[encoded data removed]",
      "text/plain": [
       "<Figure size 432x288 with 1 Axes>"
      ]
     },
     "metadata": {
      "needs_background": "light"
     },
     "output_type": "display_data"
    }
   ],
   "source": [
    "y = np.array([i for i in range(1,6,1)])\n",
    "plt.plot(y,cost);"
   ]
  },
  {
   "cell_type": "code",
   "execution_count": 18,
   "metadata": {},
   "outputs": [
    {
     "name": "stdout",
     "output_type": "stream",
     "text": [
      "Init: initializing centroids\n",
      "Init: initializing clusters\n",
      "Starting iterations...\n",
      "Run 1, iteration: 1/100, moves: 0, cost: 84722.0\n"
     ]
    }
   ],
   "source": [
    "km_cao = KModes(n_clusters=2, init = \"Cao\", verbose=1)\n",
    "fitClusters_cao = km_cao.fit_predict(df_cluster)"
   ]
  },
  {
   "cell_type": "code",
   "execution_count": 19,
   "metadata": {},
   "outputs": [
    {
     "data": {
      "text/plain": [
       "array([0, 0, 0, ..., 0, 0, 0], dtype=uint16)"
      ]
     },
     "execution_count": 19,
     "metadata": {},
     "output_type": "execute_result"
    }
   ],
   "source": [
    "fitClusters_cao"
   ]
  },
  {
   "cell_type": "code",
   "execution_count": 20,
   "metadata": {},
   "outputs": [],
   "source": [
    "df_cluster = df_cluster_copy.reset_index()\n",
    "\n",
    "segment_df = pd.DataFrame(fitClusters_cao)\n",
    "segment_df.columns = ['segment_predicted']\n",
    "combined_df = pd.concat([df_cluster, segment_df], axis = 1).reset_index()\n",
    "combined_df = combined_df.drop(['index', 'level_0'], axis = 1)"
   ]
  },
  {
   "cell_type": "code",
   "execution_count": 21,
   "metadata": {},
   "outputs": [
    {
     "data": {
      "text/html": [
       "<div>\n",
       "<style scoped>\n",
       "    .dataframe tbody tr th:only-of-type {\n",
       "        vertical-align: middle;\n",
       "    }\n",
       "\n",
       "    .dataframe tbody tr th {\n",
       "        vertical-align: top;\n",
       "    }\n",
       "\n",
       "    .dataframe thead th {\n",
       "        text-align: right;\n",
       "    }\n",
       "</style>\n",
       "<table border=\"1\" class=\"dataframe\">\n",
       "  <thead>\n",
       "    <tr style=\"text-align: right;\">\n",
       "      <th></th>\n",
       "      <th>Areas</th>\n",
       "      <th>Age</th>\n",
       "      <th>Education</th>\n",
       "      <th>Orientation</th>\n",
       "      <th>Region</th>\n",
       "      <th>Use_NY</th>\n",
       "      <th>Indication</th>\n",
       "      <th>Turnover_bin</th>\n",
       "      <th>segment_predicted</th>\n",
       "    </tr>\n",
       "  </thead>\n",
       "  <tbody>\n",
       "    <tr>\n",
       "      <td>0</td>\n",
       "      <td>0,0 - 0,5 ha</td>\n",
       "      <td>51 - 60 years</td>\n",
       "      <td>High school</td>\n",
       "      <td>mixed farm</td>\n",
       "      <td>Luzon</td>\n",
       "      <td>yes</td>\n",
       "      <td>Molluscicides</td>\n",
       "      <td>0-100</td>\n",
       "      <td>0</td>\n",
       "    </tr>\n",
       "    <tr>\n",
       "      <td>1</td>\n",
       "      <td>0,0 - 0,5 ha</td>\n",
       "      <td>51 - 60 years</td>\n",
       "      <td>High school</td>\n",
       "      <td>mixed farm</td>\n",
       "      <td>Luzon</td>\n",
       "      <td>yes</td>\n",
       "      <td>Insecticides</td>\n",
       "      <td>0-100</td>\n",
       "      <td>0</td>\n",
       "    </tr>\n",
       "    <tr>\n",
       "      <td>2</td>\n",
       "      <td>0,0 - 0,5 ha</td>\n",
       "      <td>41 - 50 years</td>\n",
       "      <td>Secondary school</td>\n",
       "      <td>undefined</td>\n",
       "      <td>Luzon</td>\n",
       "      <td>yes</td>\n",
       "      <td>Herbicides</td>\n",
       "      <td>0-100</td>\n",
       "      <td>0</td>\n",
       "    </tr>\n",
       "    <tr>\n",
       "      <td>3</td>\n",
       "      <td>0,0 - 0,5 ha</td>\n",
       "      <td>41 - 50 years</td>\n",
       "      <td>Secondary school</td>\n",
       "      <td>undefined</td>\n",
       "      <td>Luzon</td>\n",
       "      <td>yes</td>\n",
       "      <td>Herbicides</td>\n",
       "      <td>0-100</td>\n",
       "      <td>0</td>\n",
       "    </tr>\n",
       "    <tr>\n",
       "      <td>4</td>\n",
       "      <td>0,0 - 0,5 ha</td>\n",
       "      <td>41 - 50 years</td>\n",
       "      <td>Secondary school</td>\n",
       "      <td>undefined</td>\n",
       "      <td>Luzon</td>\n",
       "      <td>yes</td>\n",
       "      <td>Molluscicides</td>\n",
       "      <td>0-100</td>\n",
       "      <td>0</td>\n",
       "    </tr>\n",
       "  </tbody>\n",
       "</table>\n",
       "</div>"
      ],
      "text/plain": [
       "          Areas            Age         Education Orientation Region Use_NY  \\\n",
       "0  0,0 - 0,5 ha  51 - 60 years       High school  mixed farm  Luzon    yes   \n",
       "1  0,0 - 0,5 ha  51 - 60 years       High school  mixed farm  Luzon    yes   \n",
       "2  0,0 - 0,5 ha  41 - 50 years  Secondary school   undefined  Luzon    yes   \n",
       "3  0,0 - 0,5 ha  41 - 50 years  Secondary school   undefined  Luzon    yes   \n",
       "4  0,0 - 0,5 ha  41 - 50 years  Secondary school   undefined  Luzon    yes   \n",
       "\n",
       "      Indication Turnover_bin  segment_predicted  \n",
       "0  Molluscicides        0-100                  0  \n",
       "1   Insecticides        0-100                  0  \n",
       "2     Herbicides        0-100                  0  \n",
       "3     Herbicides        0-100                  0  \n",
       "4  Molluscicides        0-100                  0  "
      ]
     },
     "execution_count": 21,
     "metadata": {},
     "output_type": "execute_result"
    }
   ],
   "source": [
    "combined_df.head()"
   ]
  },
  {
   "cell_type": "code",
   "execution_count": 22,
   "metadata": {},
   "outputs": [],
   "source": [
    "cluster_0 = combined_df[combined_df['segment_predicted'] == 0]\n",
    "cluster_1 = combined_df[combined_df['segment_predicted'] == 1]"
   ]
  },
  {
   "cell_type": "code",
   "execution_count": 23,
   "metadata": {},
   "outputs": [
    {
     "name": "stdout",
     "output_type": "stream",
     "text": [
      "<class 'pandas.core.frame.DataFrame'>\n",
      "Int64Index: 17047 entries, 0 to 23989\n",
      "Data columns (total 9 columns):\n",
      "Areas                17047 non-null object\n",
      "Age                  17047 non-null object\n",
      "Education            17047 non-null object\n",
      "Orientation          17047 non-null object\n",
      "Region               17047 non-null object\n",
      "Use_NY               17047 non-null object\n",
      "Indication           17047 non-null object\n",
      "Turnover_bin         17047 non-null category\n",
      "segment_predicted    17047 non-null uint16\n",
      "dtypes: category(1), object(7), uint16(1)\n",
      "memory usage: 1.1+ MB\n"
     ]
    }
   ],
   "source": [
    "cluster_0.info()"
   ]
  },
  {
   "cell_type": "code",
   "execution_count": 24,
   "metadata": {},
   "outputs": [
    {
     "name": "stdout",
     "output_type": "stream",
     "text": [
      "<class 'pandas.core.frame.DataFrame'>\n",
      "Int64Index: 6943 entries, 8 to 23974\n",
      "Data columns (total 9 columns):\n",
      "Areas                6943 non-null object\n",
      "Age                  6943 non-null object\n",
      "Education            6943 non-null object\n",
      "Orientation          6943 non-null object\n",
      "Region               6943 non-null object\n",
      "Use_NY               6943 non-null object\n",
      "Indication           6943 non-null object\n",
      "Turnover_bin         6943 non-null category\n",
      "segment_predicted    6943 non-null uint16\n",
      "dtypes: category(1), object(7), uint16(1)\n",
      "memory usage: 454.7+ KB\n"
     ]
    }
   ],
   "source": [
    "cluster_1.info()"
   ]
  },
  {
   "cell_type": "code",
   "execution_count": 25,
   "metadata": {},
   "outputs": [
    {
     "data": {
      "image/png": "[encoded data removed]",
      "text/plain": [
       "<Figure size 864x360 with 1 Axes>"
      ]
     },
     "metadata": {
      "needs_background": "light"
     },
     "output_type": "display_data"
    }
   ],
   "source": [
    "plt.subplots(figsize = (12,5))\n",
    "sns.countplot(x=combined_df['Age'],order=combined_df['Age'].value_counts().index,hue=combined_df['segment_predicted'])\n",
    "plt.legend(loc='upper right', frameon=False, labelspacing=1, title='segment_predicted')\n",
    "plt.xticks(rotation=90)\n",
    "plt.show();"
   ]
  },
  {
   "cell_type": "code",
   "execution_count": 24,
   "metadata": {},
   "outputs": [
    {
     "data": {
      "image/png": "[encoded data removed]",
      "text/plain": [
       "<Figure size 864x360 with 1 Axes>"
      ]
     },
     "metadata": {
      "needs_background": "light"
     },
     "output_type": "display_data"
    }
   ],
   "source": [
    "plt.subplots(figsize = (12,5))\n",
    "sns.countplot(x=combined_df['Areas'],order=combined_df['Areas'].value_counts().index,hue=combined_df['segment_predicted'])\n",
    "plt.legend(loc='upper right', frameon=False, labelspacing=1, title='segment_predicted')\n",
    "plt.xticks(rotation=90)\n",
    "plt.show();"
   ]
  },
  {
   "cell_type": "code",
   "execution_count": 25,
   "metadata": {},
   "outputs": [
    {
     "data": {
      "image/png": "[encoded data removed]",
      "text/plain": [
       "<Figure size 864x360 with 1 Axes>"
      ]
     },
     "metadata": {
      "needs_background": "light"
     },
     "output_type": "display_data"
    }
   ],
   "source": [
    "plt.subplots(figsize = (12,5))\n",
    "sns.countplot(x=combined_df['Education'],order=combined_df['Education'].value_counts().index,hue=combined_df['segment_predicted'])\n",
    "plt.legend(loc='upper right', frameon=False, labelspacing=1, title='segment_predicted')\n",
    "plt.xticks(rotation=90)\n",
    "plt.show();"
   ]
  },
  {
   "cell_type": "code",
   "execution_count": 26,
   "metadata": {},
   "outputs": [
    {
     "data": {
      "image/png": "[encoded data removed]",
      "text/plain": [
       "<Figure size 864x360 with 1 Axes>"
      ]
     },
     "metadata": {
      "needs_background": "light"
     },
     "output_type": "display_data"
    }
   ],
   "source": [
    "plt.subplots(figsize = (12,5))\n",
    "sns.countplot(x=combined_df['Turnover_bin'],order=combined_df['Turnover_bin'].value_counts().index,hue=combined_df['segment_predicted'])\n",
    "plt.legend(loc='upper right', frameon=False, labelspacing=1, title='segment_predicted')\n",
    "plt.xticks(rotation=90)\n",
    "plt.show();"
   ]
  },
  {
   "cell_type": "code",
   "execution_count": 27,
   "metadata": {},
   "outputs": [
    {
     "data": {
      "image/png": "[encoded data removed]",
      "text/plain": [
       "<Figure size 864x360 with 1 Axes>"
      ]
     },
     "metadata": {
      "needs_background": "light"
     },
     "output_type": "display_data"
    }
   ],
   "source": [
    "plt.subplots(figsize = (12,5))\n",
    "sns.countplot(x=combined_df['Region'],order=combined_df['Region'].value_counts().index,hue=combined_df['segment_predicted'])\n",
    "plt.legend(loc='upper right', frameon=False, labelspacing=1, title='segment_predicted')\n",
    "plt.xticks(rotation=90)\n",
    "plt.show();"
   ]
  },
  {
   "cell_type": "code",
   "execution_count": 28,
   "metadata": {},
   "outputs": [
    {
     "data": {
      "image/png": "[encoded data removed]",
      "text/plain": [
       "<Figure size 864x360 with 1 Axes>"
      ]
     },
     "metadata": {
      "needs_background": "light"
     },
     "output_type": "display_data"
    }
   ],
   "source": [
    "plt.subplots(figsize = (12,5))\n",
    "sns.countplot(x=combined_df['Orientation'],order=combined_df['Orientation'].value_counts().index,hue=combined_df['segment_predicted'])\n",
    "plt.legend(loc='upper right', frameon=False, labelspacing=1, title='segment_predicted')\n",
    "plt.xticks(rotation=90)\n",
    "plt.show();"
   ]
  },
  {
   "cell_type": "code",
   "execution_count": 29,
   "metadata": {},
   "outputs": [
    {
     "data": {
      "image/png": "[encoded data removed]",
      "text/plain": [
       "<Figure size 864x360 with 1 Axes>"
      ]
     },
     "metadata": {
      "needs_background": "light"
     },
     "output_type": "display_data"
    }
   ],
   "source": [
    "plt.subplots(figsize = (12,5))\n",
    "sns.countplot(x=combined_df['Use_NY'],order=combined_df['Use_NY'].value_counts().index,hue=combined_df['segment_predicted'])\n",
    "plt.legend(loc='upper right', frameon=False, labelspacing=1, title='segment_predicted')\n",
    "plt.xticks(rotation=90)\n",
    "plt.show();"
   ]
  },
  {
   "cell_type": "code",
   "execution_count": 30,
   "metadata": {},
   "outputs": [
    {
     "data": {
      "image/png": "[encoded data removed]",
      "text/plain": [
       "<Figure size 864x360 with 1 Axes>"
      ]
     },
     "metadata": {
      "needs_background": "light"
     },
     "output_type": "display_data"
    }
   ],
   "source": [
    "plt.subplots(figsize = (12,5))\n",
    "sns.countplot(x=combined_df['Indication'],order=combined_df['Indication'].value_counts().index,hue=combined_df['segment_predicted'])\n",
    "plt.legend(loc='upper right', frameon=False, labelspacing=1, title='segment_predicted')\n",
    "plt.xticks(rotation=90)\n",
    "plt.show();"
   ]
  },
  {
   "cell_type": "code",
   "execution_count": null,
   "metadata": {},
   "outputs": [],
   "source": []
  }
 ],
 "metadata": {
  "kernelspec": {
   "display_name": "Python 3",
   "language": "python",
   "name": "python3"
  },
  "language_info": {
   "codemirror_mode": {
    "name": "ipython",
    "version": 3
   },
   "file_extension": ".py",
   "mimetype": "text/x-python",
   "name": "python",
   "nbconvert_exporter": "python",
   "pygments_lexer": "ipython3",
   "version": "3.7.4"
  }
 },
 "nbformat": 4,
 "nbformat_minor": 2
}
